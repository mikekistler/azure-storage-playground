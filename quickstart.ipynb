{
 "cells": [
  {
   "cell_type": "markdown",
   "source": [
    "# Quickstart: Using the Storage Service from Python\r\n",
    "\r\n",
    "This sample shows how to use the Blob Service through the Storage SDK for Python.\r\n",
    "\r\n",
    "See the [accompanying article](https://docs.microsoft.com/en-us/azure/storage/blobs/storage-quickstart-blobs-python) on the SDK documentation page for step-by-step instructions.\r\n",
    "\r\n",
    "## Prerequisites\r\n",
    "\r\n",
    "Before you get started, here's a list of prerequisites:\r\n",
    "\r\n",
    "* An Azure account with an active subscription. [Create an account for free](https://azure.microsoft.com/free/?ref=microsoft.com&utm_source=microsoft.com&utm_medium=docs&utm_campaign=visualstudio).\r\n",
    "* An Azure Storage account. [Create a storage account](https://docs.microsoft.com/en-us/azure/storage/common/storage-account-create).\r\n",
    "* Python 2.7 or 3.6+.\r\n",
    "\r\n",
    "## Get the Blob Storage Python Package\r\n",
    "\r\n",
    "The Azure Blob Storage Python package can be installed from [pyPI](https://pypi.org/) using this command:\r\n",
    "\r\n",
    "```sh\r\n",
    "pip install azure-storage-blob\r\n",
    "```\r\n"
   ],
   "metadata": {}
  },
  {
   "cell_type": "markdown",
   "source": [
    "First, set up some general items. Import the Blob Storage Python package:"
   ],
   "metadata": {}
  },
  {
   "cell_type": "code",
   "execution_count": null,
   "source": [
    "import os, uuid\r\n",
    "from azure.storage.blob import BlobServiceClient, BlobClient, ContainerClient, __version__"
   ],
   "outputs": [],
   "metadata": {}
  },
  {
   "cell_type": "markdown",
   "source": [
    "Display the version of the Blob Storage Python package:"
   ],
   "metadata": {}
  },
  {
   "cell_type": "code",
   "execution_count": null,
   "source": [
    "print(\"Azure Blob Storage v\" + __version__ + \" - Python quickstart sample\")"
   ],
   "outputs": [],
   "metadata": {}
  },
  {
   "cell_type": "markdown",
   "source": [
    "Set the connection string for use with the application."
   ],
   "metadata": {}
  },
  {
   "cell_type": "code",
   "execution_count": null,
   "source": [
    "connect_str = 'your-connection-string'"
   ],
   "outputs": [],
   "metadata": {}
  },
  {
   "cell_type": "markdown",
   "source": [
    "Create an instance of the BlobServiceClient class by calling the from_connection_string method. Then, call the create_container method to actually create the container in your storage account."
   ],
   "metadata": {}
  },
  {
   "cell_type": "code",
   "execution_count": null,
   "source": [
    "try:\r\n",
    "    # Create the BlobServiceClient object which will be used to create a container client\r\n",
    "    blob_service_client = BlobServiceClient.from_connection_string(connect_str)\r\n",
    "\r\n",
    "    # Create a unique name for the container\r\n",
    "    container_name = str(uuid.uuid4())\r\n",
    "\r\n",
    "    # Create the container\r\n",
    "    container_client = blob_service_client.create_container(container_name)\r\n",
    "\r\n",
    "except Exception as ex:\r\n",
    "    print(f'Exception:\\n${ex}')"
   ],
   "outputs": [],
   "metadata": {}
  },
  {
   "cell_type": "markdown",
   "source": [
    "Creates a local directory to hold data files."
   ],
   "metadata": {}
  },
  {
   "cell_type": "code",
   "execution_count": null,
   "source": [
    "local_path = \"./data\"\r\n",
    "os.mkdir(local_path)"
   ],
   "outputs": [],
   "metadata": {}
  },
  {
   "cell_type": "markdown",
   "source": [
    " Creates a text file in the local directory."
   ],
   "metadata": {}
  },
  {
   "cell_type": "code",
   "execution_count": null,
   "source": [
    "local_file_name = str(uuid.uuid4()) + \".txt\"\r\n",
    "upload_file_path = os.path.join(local_path, local_file_name)\r\n",
    "\r\n",
    "file = open(upload_file_path, 'w')\r\n",
    "file.write(\"Hello, World!\")\r\n",
    "file.close()"
   ],
   "outputs": [],
   "metadata": {}
  },
  {
   "cell_type": "markdown",
   "source": [
    "Gets a reference to a BlobClient object by calling the get_blob_client method on the BlobServiceClient from the Create a container section."
   ],
   "metadata": {}
  },
  {
   "cell_type": "code",
   "execution_count": null,
   "source": [
    "blob_client = blob_service_client.get_blob_client(container=container_name, blob=local_file_name)"
   ],
   "outputs": [],
   "metadata": {}
  },
  {
   "cell_type": "markdown",
   "source": [
    "Uploads the local text file to the blob by calling the upload_blob method."
   ],
   "metadata": {}
  },
  {
   "cell_type": "code",
   "execution_count": null,
   "source": [
    "print(\"\\nUploading to Azure Storage as blob:\\n\\t\" + local_file_name)\r\n",
    "\r\n",
    "with open(upload_file_path, \"rb\") as data:\r\n",
    "    blob_client.upload_blob(data)"
   ],
   "outputs": [],
   "metadata": {}
  },
  {
   "cell_type": "markdown",
   "source": [
    "List the blobs in a container"
   ],
   "metadata": {}
  },
  {
   "cell_type": "code",
   "execution_count": null,
   "source": [
    "print(\"\\nListing blobs...\")\r\n",
    "\r\n",
    "blob_list = container_client.list_blobs()\r\n",
    "for blob in blob_list:\r\n",
    "    print(\"\\t\" + blob.name)"
   ],
   "outputs": [],
   "metadata": {}
  },
  {
   "cell_type": "markdown",
   "source": [
    "Clean up the resources the app created by removing the entire container using the delete_container method."
   ],
   "metadata": {}
  },
  {
   "cell_type": "code",
   "execution_count": null,
   "source": [
    "container_client.delete_container()"
   ],
   "outputs": [],
   "metadata": {}
  }
 ],
 "metadata": {
  "kernelspec": {
   "name": "python3",
   "display_name": "Python 3.9.5 64-bit"
  },
  "language_info": {
   "codemirror_mode": {
    "name": "ipython",
    "version": 3
   },
   "file_extension": ".py",
   "mimetype": "text/x-python",
   "name": "python",
   "nbconvert_exporter": "python",
   "pygments_lexer": "ipython3",
   "version": "3.9.5"
  },
  "interpreter": {
   "hash": "63fd5069d213b44bf678585dea6b12cceca9941eaf7f819626cde1f2670de90d"
  }
 },
 "nbformat": 4,
 "nbformat_minor": 2
}